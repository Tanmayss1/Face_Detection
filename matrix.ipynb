{
 "cells": [
  {
   "cell_type": "code",
   "execution_count": 1,
   "metadata": {},
   "outputs": [
    {
     "name": "stdout",
     "output_type": "stream",
     "text": [
      "[58, 64]\n",
      "[139, 154]\n"
     ]
    }
   ],
   "source": [
    "# Function to create a matrix of size m x n with all elements initialized to 0\n",
    "def create_matrix(m, n):\n",
    "    return [[0 for _ in range(n)] for _ in range(m)]\n",
    "\n",
    "# Function to perform matrix multiplication\n",
    "def matrix_multiply(matrix1, matrix2):\n",
    "    if len(matrix1[0]) != len(matrix2):\n",
    "        raise ValueError(\"Number of columns in matrix1 must be equal to the number of rows in matrix2\")\n",
    "\n",
    "    # Initialize the result matrix with zeros\n",
    "    rows1 = len(matrix1)\n",
    "    cols1 = len(matrix1[0])\n",
    "    cols2 = len(matrix2[0])\n",
    "    result = create_matrix(rows1, cols2)\n",
    "\n",
    "    # Perform matrix multiplication\n",
    "    for i in range(rows1):\n",
    "        for j in range(cols2):\n",
    "            for k in range(cols1):\n",
    "                result[i][j] += matrix1[i][k] * matrix2[k][j]\n",
    "\n",
    "    return result\n",
    "\n",
    "# Example matrices\n",
    "matrix1 = [[1, 2, 3], [4, 5, 6]]\n",
    "matrix2 = [[7, 8], [9, 10], [11, 12]]\n",
    "\n",
    "# Perform matrix multiplication\n",
    "R = matrix_multiply(matrix1, matrix2)\n",
    "\n",
    "# Print the result\n",
    "for row in R:\n",
    "    print(row)\n"
   ]
  },
  {
   "cell_type": "code",
   "execution_count": 6,
   "metadata": {},
   "outputs": [
    {
     "name": "stdout",
     "output_type": "stream",
     "text": [
      "Resultant matrix:\n",
      "[5.0, 4.0]\n",
      "[4.0, 5.0]\n"
     ]
    }
   ],
   "source": []
  },
  {
   "cell_type": "code",
   "execution_count": 7,
   "metadata": {},
   "outputs": [
    {
     "name": "stdout",
     "output_type": "stream",
     "text": [
      "Enter elements for Matrix 1:\n",
      "Enter elements for Matrix 2:\n",
      "\n",
      "Input Matrix 1:\n",
      "[1.0, 2.0]\n",
      "[2.0, 1.0]\n",
      "\n",
      "Input Matrix 2:\n",
      "[1.0, 2.0]\n",
      "[2.0, 1.0]\n",
      "\n",
      "Resultant matrix:\n",
      "[5.0, 4.0]\n",
      "[4.0, 5.0]\n"
     ]
    }
   ],
   "source": [
    "# Function to create a matrix of size m x n with all elements initialized to 0\n",
    "def create_matrix(m, n):\n",
    "    return [[0 for _ in range(n)] for _ in range(m)]\n",
    "\n",
    "# Function to input a matrix from the user\n",
    "def input_matrix(rows, cols, matrix_name):\n",
    "    print(f\"Enter elements for {matrix_name}:\")\n",
    "    matrix = create_matrix(rows, cols)\n",
    "    for i in range(rows):\n",
    "        for j in range(cols):\n",
    "            matrix[i][j] = float(input(f\"Enter element at position ({i+1}, {j+1}): \"))\n",
    "    return matrix\n",
    "\n",
    "# Function to perform matrix multiplication\n",
    "def matrix_multiply(matrix1, matrix2):\n",
    "    if len(matrix1[0]) != len(matrix2):\n",
    "        raise ValueError(\"Number of columns in matrix1 must be equal to the number of rows in matrix2\")\n",
    "\n",
    "    # Initialize the result matrix with zeros\n",
    "    rows1 = len(matrix1)\n",
    "    cols1 = len(matrix1[0])\n",
    "    cols2 = len(matrix2[0])\n",
    "    result = create_matrix(rows1, cols2)\n",
    "\n",
    "    # Perform matrix multiplication\n",
    "    for i in range(rows1):\n",
    "        for j in range(cols2):\n",
    "            for k in range(cols1):\n",
    "                result[i][j] += matrix1[i][k] * matrix2[k][j]\n",
    "\n",
    "    return result\n",
    "\n",
    "# Input the dimensions of the matrices from the user\n",
    "rows1 = int(input(\"Enter the number of rows for matrix 1: \"))\n",
    "cols1 = int(input(\"Enter the number of columns for matrix 1: \"))\n",
    "rows2 = int(input(\"Enter the number of rows for matrix 2: \"))\n",
    "cols2 = int(input(\"Enter the number of columns for matrix 2: \"))\n",
    "\n",
    "# Input the matrices from the user\n",
    "matrix1 = input_matrix(rows1, cols1, \"Matrix 1\")\n",
    "matrix2 = input_matrix(rows2, cols2, \"Matrix 2\")\n",
    "\n",
    "# Perform matrix multiplication\n",
    "R = matrix_multiply(matrix1, matrix2)\n",
    "\n",
    "# Print the input matrices\n",
    "print(\"\\nInput Matrix 1:\")\n",
    "for row in matrix1:\n",
    "    print(row)\n",
    "\n",
    "print(\"\\nInput Matrix 2:\")\n",
    "for row in matrix2:\n",
    "    print(row)\n",
    "\n",
    "# Print the result\n",
    "print(\"\\nResultant matrix:\")\n",
    "for row in R:\n",
    "    print(row)\n"
   ]
  },
  {
   "cell_type": "code",
   "execution_count": null,
   "metadata": {},
   "outputs": [],
   "source": []
  }
 ],
 "metadata": {
  "kernelspec": {
   "display_name": "base",
   "language": "python",
   "name": "python3"
  },
  "language_info": {
   "codemirror_mode": {
    "name": "ipython",
    "version": 3
   },
   "file_extension": ".py",
   "mimetype": "text/x-python",
   "name": "python",
   "nbconvert_exporter": "python",
   "pygments_lexer": "ipython3",
   "version": "3.9.12"
  },
  "orig_nbformat": 4
 },
 "nbformat": 4,
 "nbformat_minor": 2
}
